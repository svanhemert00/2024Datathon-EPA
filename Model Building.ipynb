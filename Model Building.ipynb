{
 "cells": [
  {
   "cell_type": "code",
   "execution_count": 1,
   "id": "46f9f893",
   "metadata": {},
   "outputs": [
    {
     "name": "stdout",
     "output_type": "stream",
     "text": [
      "Defaulting to user installation because normal site-packages is not writeable\n",
      "Requirement already satisfied: imbalanced-learn in /home/jupyter-svanhemert00/.local/lib/python3.9/site-packages (0.12.0)\n",
      "Requirement already satisfied: joblib>=1.1.1 in /home/jupyter-svanhemert00/.local/lib/python3.9/site-packages (from imbalanced-learn) (1.3.2)\n",
      "Requirement already satisfied: scipy>=1.5.0 in /home/jupyter-svanhemert00/.local/lib/python3.9/site-packages (from imbalanced-learn) (1.8.0)\n",
      "Requirement already satisfied: scikit-learn>=1.0.2 in /home/jupyter-svanhemert00/.local/lib/python3.9/site-packages (from imbalanced-learn) (1.0.2)\n",
      "Requirement already satisfied: numpy>=1.17.3 in /home/jupyter-svanhemert00/.local/lib/python3.9/site-packages (from imbalanced-learn) (1.22.1)\n",
      "Requirement already satisfied: threadpoolctl>=2.0.0 in /home/jupyter-svanhemert00/.local/lib/python3.9/site-packages (from imbalanced-learn) (3.1.0)\n"
     ]
    }
   ],
   "source": [
    "# install libraries\n",
    "!pip install imbalanced-learn"
   ]
  },
  {
   "cell_type": "code",
   "execution_count": 2,
   "id": "5d01e7ca",
   "metadata": {},
   "outputs": [
    {
     "name": "stdout",
     "output_type": "stream",
     "text": [
      "0.12.0\n"
     ]
    }
   ],
   "source": [
    "import imblearn\n",
    "print(imblearn.__version__)"
   ]
  },
  {
   "cell_type": "code",
   "execution_count": 3,
   "id": "71e2be65",
   "metadata": {},
   "outputs": [],
   "source": [
    "# import libraries\n",
    "import pandas as pd\n",
    "import numpy as np\n",
    "from sklearn.preprocessing import LabelEncoder\n",
    "from sklearn.preprocessing import MinMaxScaler\n",
    "from sklearn.preprocessing import StandardScaler\n",
    "from sklearn.cluster import KMeans\n",
    "import matplotlib.pyplot as plt\n",
    "from imblearn.over_sampling import SMOTE\n",
    "from sklearn.model_selection import train_test_split\n",
    "from sklearn.ensemble import RandomForestClassifier\n",
    "from sklearn.metrics import accuracy_score\n",
    "from sklearn.ensemble import RandomForestClassifier\n",
    "from sklearn.metrics import accuracy_score"
   ]
  },
  {
   "cell_type": "code",
   "execution_count": 4,
   "id": "b7346e5c",
   "metadata": {},
   "outputs": [
    {
     "name": "stderr",
     "output_type": "stream",
     "text": [
      "/tmp/ipykernel_2579308/479897428.py:5: DtypeWarning: Columns (47,68,71,81,164,165) have mixed types. Specify dtype option on import or set low_memory=False.\n",
      "  df_2022 = pd.read_csv(data_2022)\n",
      "/tmp/ipykernel_2579308/479897428.py:6: DtypeWarning: Columns (47,52,68,81,164,165) have mixed types. Specify dtype option on import or set low_memory=False.\n",
      "  df_2023 = pd.read_csv(data_2023)\n"
     ]
    }
   ],
   "source": [
    "# ingest data\n",
    "data_2022 = \"FY2022_068_Contracts_Full_20240214_1.csv\"\n",
    "data_2023 = \"FY2023_068_Contracts_Full_20240214_1.csv\"\n",
    "data_2024 = \"FY2024_068_Contracts_Full_20240214_1.csv\"\n",
    "df_2022 = pd.read_csv(data_2022)\n",
    "df_2023 = pd.read_csv(data_2023)\n",
    "df_2024 = pd.read_csv(data_2024)\n",
    "df_combined = pd.concat([df_2022, df_2023, df_2024], ignore_index=True)"
   ]
  },
  {
   "cell_type": "code",
   "execution_count": 6,
   "id": "3eec4279",
   "metadata": {},
   "outputs": [],
   "source": [
    "# retain desired fields\n",
    "field_names = [    \n",
    "    \"potential_total_value_of_award\",\n",
    "    \"recipient_state_code\",\n",
    "    \"alaskan_native_corporation_owned_firm\",\n",
    "    \"native_hawaiian_organization_owned_firm\",\n",
    "    \"subcontinent_asian_asian_indian_american_owned_business\",\n",
    "    \"asian_pacific_american_owned_business\",\n",
    "    \"black_american_owned_business\",\n",
    "    \"hispanic_american_owned_business\",\n",
    "    \"native_american_owned_business\",\n",
    "    \"other_minority_owned_business\",\n",
    "    \"veteran_owned_business\",\n",
    "    \"woman_owned_business\",\n",
    "    \"contracting_officers_determination_of_business_size\"\n",
    "]\n",
    "df_combined = df_combined[field_names]"
   ]
  },
  {
   "cell_type": "code",
   "execution_count": 7,
   "id": "7df2844f",
   "metadata": {},
   "outputs": [
    {
     "name": "stdout",
     "output_type": "stream",
     "text": [
      "Original shape: (28939, 13)\n",
      "Shape after removing duplicates: (13618, 13)\n"
     ]
    }
   ],
   "source": [
    "# drop duplicates\n",
    "print(\"Original shape:\", df_combined.shape)\n",
    "df_combined = df_combined.drop_duplicates()\n",
    "print(\"Shape after removing duplicates:\", df_combined.shape)"
   ]
  },
  {
   "cell_type": "code",
   "execution_count": 8,
   "id": "13a3fcdb",
   "metadata": {},
   "outputs": [
    {
     "name": "stdout",
     "output_type": "stream",
     "text": [
      "Original shape: (13618, 13)\n",
      "Shape after removing outliers: (11679, 13)\n"
     ]
    }
   ],
   "source": [
    "# remove outliers\n",
    "Q1 = df_combined['potential_total_value_of_award'].quantile(0.25)\n",
    "Q3 = df_combined['potential_total_value_of_award'].quantile(0.75)\n",
    "IQR = Q3 - Q1\n",
    "\n",
    "lower_bound = Q1 - 1.5 * IQR\n",
    "upper_bound = Q3 + 1.5 * IQR\n",
    "\n",
    "df_filtered = df_combined[(df_combined['potential_total_value_of_award'] >= lower_bound) & (df_combined['potential_total_value_of_award'] <= upper_bound)]\n",
    "\n",
    "print(\"Original shape:\", df_combined.shape)\n",
    "print(\"Shape after removing outliers:\", df_filtered.shape)"
   ]
  },
  {
   "cell_type": "code",
   "execution_count": 9,
   "id": "8deef10d",
   "metadata": {},
   "outputs": [
    {
     "name": "stdout",
     "output_type": "stream",
     "text": [
      "Before dropping nulls (11679, 13)\n",
      "After dropping nulls (11629, 13)\n",
      "After dropping zeros (11629, 13)\n",
      "After dropping zeros (11557, 13)\n"
     ]
    }
   ],
   "source": [
    "# drop nulls and zeros\n",
    "print(\"Before dropping nulls\", df_filtered.shape)\n",
    "df_filtered = df_filtered.dropna()\n",
    "print(\"After dropping nulls\", df_filtered.shape)\n",
    "\n",
    "print(\"After dropping zeros\", df_filtered.shape)\n",
    "df_filtered = df_filtered[df_filtered['potential_total_value_of_award'] != 0]\n",
    "print(\"After dropping zeros\", df_filtered.shape)"
   ]
  },
  {
   "cell_type": "code",
   "execution_count": 10,
   "id": "27992776",
   "metadata": {},
   "outputs": [],
   "source": [
    "# rename columns for clarity\n",
    "df_filtered.rename(columns={\n",
    "    'recipient_state_code': 'region_code',\n",
    "    'alaskan_native_corporation_owned_firm': 'alaskan_native_owned',\n",
    "    'native_hawaiian_organization_owned_firm': 'hawaiian_native_owned',\n",
    "    'subcontinent_asian_asian_indian_american_owned_business': 'asian_owned',\n",
    "    'asian_pacific_american_owned_business': 'asian_pacific_owned',\n",
    "    'black_american_owned_business': 'black_owned',\n",
    "    'hispanic_american_owned_business': 'hispanic_owned',\n",
    "    'native_american_owned_business': 'native_american_owned',\n",
    "    'other_minority_owned_business': 'other_minority_owned',\n",
    "    'contracting_officers_determination_of_business_size': 'business_size',\n",
    "    'veteran_owned_business': 'veteran_owned',\n",
    "    'woman_owned_business': 'women_owned'\n",
    "}, inplace=True)"
   ]
  },
  {
   "cell_type": "code",
   "execution_count": 11,
   "id": "1402c865",
   "metadata": {},
   "outputs": [],
   "source": [
    "# replace t's and f's for 1's and 0's\n",
    "df_filtered = df_filtered.replace({'t': 1, 'f': 0})"
   ]
  },
  {
   "cell_type": "code",
   "execution_count": 12,
   "id": "85dbbebf",
   "metadata": {},
   "outputs": [],
   "source": [
    "# create ethnicity_sum column\n",
    "df_filtered['ethnicity_sum'] = df_filtered.alaskan_native_owned + df_filtered.hawaiian_native_owned + df_filtered.asian_owned + df_filtered.asian_pacific_owned + df_filtered.black_owned + df_filtered.hispanic_owned + df_filtered.native_american_owned + df_filtered.other_minority_owned\n",
    "df_filtered = df_filtered[df_filtered['ethnicity_sum'] != 2]\n",
    "df_filtered['ethnicity_sum'] = df_filtered['ethnicity_sum'].replace({0: 1})"
   ]
  },
  {
   "cell_type": "code",
   "execution_count": 13,
   "id": "a489914e",
   "metadata": {},
   "outputs": [],
   "source": [
    "# one hot encoding and column renaming\n",
    "df_filtered = pd.get_dummies(df_filtered, columns=['business_size'])\n",
    "df_filtered.drop('business_size_OTHER THAN SMALL BUSINESS', axis=1, inplace=True)\n",
    "df_filtered.rename(columns={'ethnicity_sum': 'white_owned'}, inplace=True)"
   ]
  },
  {
   "cell_type": "code",
   "execution_count": 14,
   "id": "00af646a",
   "metadata": {},
   "outputs": [],
   "source": [
    "# map original ethnicity value to new ethnicity column\n",
    "for index, row in df_filtered.iterrows():\n",
    "    if row['alaskan_native_owned'] == 1:\n",
    "        df_filtered.at[index, 'ethnicity'] = 'alaskan_native_owned'\n",
    "    elif row['hawaiian_native_owned'] == 1:\n",
    "        df_filtered.at[index, 'ethnicity'] = 'hawaiian_native_owned'\n",
    "    elif row['asian_owned'] == 1:\n",
    "        df_filtered.at[index, 'ethnicity'] = 'asian_owned'\n",
    "    elif row['asian_pacific_owned'] == 1:\n",
    "        df_filtered.at[index, 'ethnicity'] = 'asian_pacific_owned'\n",
    "    elif row['black_owned'] == 1:\n",
    "        df_filtered.at[index, 'ethnicity'] = 'black_owned'\n",
    "    elif row['hispanic_owned'] == 1:\n",
    "        df_filtered.at[index, 'ethnicity'] = 'hispanic_owned'\n",
    "    elif row['native_american_owned'] == 1:\n",
    "        df_filtered.at[index, 'ethnicity'] = 'native_american_owned'\n",
    "    elif row['other_minority_owned'] == 1:\n",
    "        df_filtered.at[index, 'ethnicity'] = 'other_minority_owned'\n",
    "    else:\n",
    "        df_filtered.at[index, 'ethnicity'] = 'white_owned'"
   ]
  },
  {
   "cell_type": "code",
   "execution_count": 15,
   "id": "52317a84",
   "metadata": {},
   "outputs": [],
   "source": [
    "# drop original ethnicity columns\n",
    "drop = [\n",
    "    'alaskan_native_owned',\n",
    "    'hawaiian_native_owned',\n",
    "    'asian_owned',\n",
    "    'asian_pacific_owned',\n",
    "    'black_owned',\n",
    "    'hispanic_owned',\n",
    "    'native_american_owned',\n",
    "    'other_minority_owned',\n",
    "    'white_owned'\n",
    "]\n",
    "df_filtered.drop(drop, axis=1, inplace=True)"
   ]
  },
  {
   "cell_type": "code",
   "execution_count": 16,
   "id": "519b39d2",
   "metadata": {},
   "outputs": [],
   "source": [
    "# rename column for clarity\n",
    "df_filtered.rename(columns={'business_size_SMALL BUSINESS': 'small_business'}, inplace=True)"
   ]
  },
  {
   "cell_type": "code",
   "execution_count": 17,
   "id": "5ed55729",
   "metadata": {},
   "outputs": [
    {
     "name": "stdout",
     "output_type": "stream",
     "text": [
      "(11070, 6)\n",
      "(415, 5)\n"
     ]
    }
   ],
   "source": [
    "# remove rows where ethnicity is white, retain rows where business is women-owned and drop women-owned column\n",
    "print(df_filtered.shape)\n",
    "df_filtered = df_filtered[df_filtered['ethnicity'] != 'white_owned']\n",
    "df_filtered = df_filtered[df_filtered['women_owned'] == 1]\n",
    "df_filtered.drop(['women_owned'], axis=1, inplace=True)\n",
    "print(df_filtered.shape)"
   ]
  },
  {
   "cell_type": "code",
   "execution_count": 21,
   "id": "f70e9f22",
   "metadata": {},
   "outputs": [
    {
     "data": {
      "text/html": [
       "<div>\n",
       "<style scoped>\n",
       "    .dataframe tbody tr th:only-of-type {\n",
       "        vertical-align: middle;\n",
       "    }\n",
       "\n",
       "    .dataframe tbody tr th {\n",
       "        vertical-align: top;\n",
       "    }\n",
       "\n",
       "    .dataframe thead th {\n",
       "        text-align: right;\n",
       "    }\n",
       "</style>\n",
       "<table border=\"1\" class=\"dataframe\">\n",
       "  <thead>\n",
       "    <tr style=\"text-align: right;\">\n",
       "      <th></th>\n",
       "      <th>potential_total_value_of_award</th>\n",
       "      <th>region_code</th>\n",
       "      <th>veteran_owned</th>\n",
       "      <th>small_business</th>\n",
       "      <th>ethnicity</th>\n",
       "      <th>training_or_user_input</th>\n",
       "    </tr>\n",
       "  </thead>\n",
       "  <tbody>\n",
       "    <tr>\n",
       "      <th>0</th>\n",
       "      <td>1127006.90</td>\n",
       "      <td>UT</td>\n",
       "      <td>0</td>\n",
       "      <td>1</td>\n",
       "      <td>native_american_owned</td>\n",
       "      <td>training</td>\n",
       "    </tr>\n",
       "    <tr>\n",
       "      <th>92</th>\n",
       "      <td>246994.00</td>\n",
       "      <td>OH</td>\n",
       "      <td>0</td>\n",
       "      <td>1</td>\n",
       "      <td>asian_owned</td>\n",
       "      <td>training</td>\n",
       "    </tr>\n",
       "    <tr>\n",
       "      <th>150</th>\n",
       "      <td>1566745.82</td>\n",
       "      <td>CO</td>\n",
       "      <td>0</td>\n",
       "      <td>1</td>\n",
       "      <td>asian_pacific_owned</td>\n",
       "      <td>training</td>\n",
       "    </tr>\n",
       "    <tr>\n",
       "      <th>163</th>\n",
       "      <td>500000.00</td>\n",
       "      <td>MD</td>\n",
       "      <td>0</td>\n",
       "      <td>1</td>\n",
       "      <td>black_owned</td>\n",
       "      <td>training</td>\n",
       "    </tr>\n",
       "    <tr>\n",
       "      <th>309</th>\n",
       "      <td>236221.04</td>\n",
       "      <td>MD</td>\n",
       "      <td>0</td>\n",
       "      <td>1</td>\n",
       "      <td>hispanic_owned</td>\n",
       "      <td>training</td>\n",
       "    </tr>\n",
       "    <tr>\n",
       "      <th>...</th>\n",
       "      <td>...</td>\n",
       "      <td>...</td>\n",
       "      <td>...</td>\n",
       "      <td>...</td>\n",
       "      <td>...</td>\n",
       "      <td>...</td>\n",
       "    </tr>\n",
       "    <tr>\n",
       "      <th>28733</th>\n",
       "      <td>79714.00</td>\n",
       "      <td>OH</td>\n",
       "      <td>0</td>\n",
       "      <td>1</td>\n",
       "      <td>asian_owned</td>\n",
       "      <td>training</td>\n",
       "    </tr>\n",
       "    <tr>\n",
       "      <th>28796</th>\n",
       "      <td>925720.00</td>\n",
       "      <td>OH</td>\n",
       "      <td>0</td>\n",
       "      <td>1</td>\n",
       "      <td>asian_owned</td>\n",
       "      <td>training</td>\n",
       "    </tr>\n",
       "    <tr>\n",
       "      <th>28857</th>\n",
       "      <td>1026316.99</td>\n",
       "      <td>MD</td>\n",
       "      <td>0</td>\n",
       "      <td>1</td>\n",
       "      <td>asian_owned</td>\n",
       "      <td>training</td>\n",
       "    </tr>\n",
       "    <tr>\n",
       "      <th>28893</th>\n",
       "      <td>638003.00</td>\n",
       "      <td>OH</td>\n",
       "      <td>0</td>\n",
       "      <td>1</td>\n",
       "      <td>asian_owned</td>\n",
       "      <td>training</td>\n",
       "    </tr>\n",
       "    <tr>\n",
       "      <th>28895</th>\n",
       "      <td>688195.00</td>\n",
       "      <td>OH</td>\n",
       "      <td>0</td>\n",
       "      <td>1</td>\n",
       "      <td>asian_owned</td>\n",
       "      <td>training</td>\n",
       "    </tr>\n",
       "  </tbody>\n",
       "</table>\n",
       "<p>415 rows × 6 columns</p>\n",
       "</div>"
      ],
      "text/plain": [
       "       potential_total_value_of_award region_code  veteran_owned  \\\n",
       "0                          1127006.90          UT              0   \n",
       "92                          246994.00          OH              0   \n",
       "150                        1566745.82          CO              0   \n",
       "163                         500000.00          MD              0   \n",
       "309                         236221.04          MD              0   \n",
       "...                               ...         ...            ...   \n",
       "28733                        79714.00          OH              0   \n",
       "28796                       925720.00          OH              0   \n",
       "28857                      1026316.99          MD              0   \n",
       "28893                       638003.00          OH              0   \n",
       "28895                       688195.00          OH              0   \n",
       "\n",
       "       small_business              ethnicity training_or_user_input  \n",
       "0                   1  native_american_owned               training  \n",
       "92                  1            asian_owned               training  \n",
       "150                 1    asian_pacific_owned               training  \n",
       "163                 1            black_owned               training  \n",
       "309                 1         hispanic_owned               training  \n",
       "...               ...                    ...                    ...  \n",
       "28733               1            asian_owned               training  \n",
       "28796               1            asian_owned               training  \n",
       "28857               1            asian_owned               training  \n",
       "28893               1            asian_owned               training  \n",
       "28895               1            asian_owned               training  \n",
       "\n",
       "[415 rows x 6 columns]"
      ]
     },
     "execution_count": 21,
     "metadata": {},
     "output_type": "execute_result"
    }
   ],
   "source": [
    "df_filtered"
   ]
  },
  {
   "cell_type": "markdown",
   "id": "9ad92146",
   "metadata": {},
   "source": [
    "# here is where you add the 'output row'"
   ]
  },
  {
   "cell_type": "code",
   "execution_count": 22,
   "id": "8ab4d413",
   "metadata": {},
   "outputs": [
    {
     "name": "stderr",
     "output_type": "stream",
     "text": [
      "/tmp/ipykernel_2579308/1281141437.py:4: FutureWarning: The frame.append method is deprecated and will be removed from pandas in a future version. Use pandas.concat instead.\n",
      "  df_filtered = df_filtered.append(pd.Series(user_input, index=df_filtered.columns), ignore_index=True)\n"
     ]
    },
    {
     "data": {
      "text/html": [
       "<div>\n",
       "<style scoped>\n",
       "    .dataframe tbody tr th:only-of-type {\n",
       "        vertical-align: middle;\n",
       "    }\n",
       "\n",
       "    .dataframe tbody tr th {\n",
       "        vertical-align: top;\n",
       "    }\n",
       "\n",
       "    .dataframe thead th {\n",
       "        text-align: right;\n",
       "    }\n",
       "</style>\n",
       "<table border=\"1\" class=\"dataframe\">\n",
       "  <thead>\n",
       "    <tr style=\"text-align: right;\">\n",
       "      <th></th>\n",
       "      <th>potential_total_value_of_award</th>\n",
       "      <th>region_code</th>\n",
       "      <th>veteran_owned</th>\n",
       "      <th>small_business</th>\n",
       "      <th>ethnicity</th>\n",
       "      <th>training_or_user_input</th>\n",
       "    </tr>\n",
       "  </thead>\n",
       "  <tbody>\n",
       "    <tr>\n",
       "      <th>0</th>\n",
       "      <td>1127006.90</td>\n",
       "      <td>UT</td>\n",
       "      <td>0</td>\n",
       "      <td>1</td>\n",
       "      <td>native_american_owned</td>\n",
       "      <td>training</td>\n",
       "    </tr>\n",
       "    <tr>\n",
       "      <th>1</th>\n",
       "      <td>246994.00</td>\n",
       "      <td>OH</td>\n",
       "      <td>0</td>\n",
       "      <td>1</td>\n",
       "      <td>asian_owned</td>\n",
       "      <td>training</td>\n",
       "    </tr>\n",
       "    <tr>\n",
       "      <th>2</th>\n",
       "      <td>1566745.82</td>\n",
       "      <td>CO</td>\n",
       "      <td>0</td>\n",
       "      <td>1</td>\n",
       "      <td>asian_pacific_owned</td>\n",
       "      <td>training</td>\n",
       "    </tr>\n",
       "    <tr>\n",
       "      <th>3</th>\n",
       "      <td>500000.00</td>\n",
       "      <td>MD</td>\n",
       "      <td>0</td>\n",
       "      <td>1</td>\n",
       "      <td>black_owned</td>\n",
       "      <td>training</td>\n",
       "    </tr>\n",
       "    <tr>\n",
       "      <th>4</th>\n",
       "      <td>236221.04</td>\n",
       "      <td>MD</td>\n",
       "      <td>0</td>\n",
       "      <td>1</td>\n",
       "      <td>hispanic_owned</td>\n",
       "      <td>training</td>\n",
       "    </tr>\n",
       "    <tr>\n",
       "      <th>...</th>\n",
       "      <td>...</td>\n",
       "      <td>...</td>\n",
       "      <td>...</td>\n",
       "      <td>...</td>\n",
       "      <td>...</td>\n",
       "      <td>...</td>\n",
       "    </tr>\n",
       "    <tr>\n",
       "      <th>411</th>\n",
       "      <td>925720.00</td>\n",
       "      <td>OH</td>\n",
       "      <td>0</td>\n",
       "      <td>1</td>\n",
       "      <td>asian_owned</td>\n",
       "      <td>training</td>\n",
       "    </tr>\n",
       "    <tr>\n",
       "      <th>412</th>\n",
       "      <td>1026316.99</td>\n",
       "      <td>MD</td>\n",
       "      <td>0</td>\n",
       "      <td>1</td>\n",
       "      <td>asian_owned</td>\n",
       "      <td>training</td>\n",
       "    </tr>\n",
       "    <tr>\n",
       "      <th>413</th>\n",
       "      <td>638003.00</td>\n",
       "      <td>OH</td>\n",
       "      <td>0</td>\n",
       "      <td>1</td>\n",
       "      <td>asian_owned</td>\n",
       "      <td>training</td>\n",
       "    </tr>\n",
       "    <tr>\n",
       "      <th>414</th>\n",
       "      <td>688195.00</td>\n",
       "      <td>OH</td>\n",
       "      <td>0</td>\n",
       "      <td>1</td>\n",
       "      <td>asian_owned</td>\n",
       "      <td>training</td>\n",
       "    </tr>\n",
       "    <tr>\n",
       "      <th>415</th>\n",
       "      <td>243249.00</td>\n",
       "      <td>CA</td>\n",
       "      <td>1</td>\n",
       "      <td>1</td>\n",
       "      <td>asian_owned</td>\n",
       "      <td>user_input</td>\n",
       "    </tr>\n",
       "  </tbody>\n",
       "</table>\n",
       "<p>416 rows × 6 columns</p>\n",
       "</div>"
      ],
      "text/plain": [
       "     potential_total_value_of_award region_code  veteran_owned  \\\n",
       "0                        1127006.90          UT              0   \n",
       "1                         246994.00          OH              0   \n",
       "2                        1566745.82          CO              0   \n",
       "3                         500000.00          MD              0   \n",
       "4                         236221.04          MD              0   \n",
       "..                              ...         ...            ...   \n",
       "411                       925720.00          OH              0   \n",
       "412                      1026316.99          MD              0   \n",
       "413                       638003.00          OH              0   \n",
       "414                       688195.00          OH              0   \n",
       "415                       243249.00          CA              1   \n",
       "\n",
       "     small_business              ethnicity training_or_user_input  \n",
       "0                 1  native_american_owned               training  \n",
       "1                 1            asian_owned               training  \n",
       "2                 1    asian_pacific_owned               training  \n",
       "3                 1            black_owned               training  \n",
       "4                 1         hispanic_owned               training  \n",
       "..              ...                    ...                    ...  \n",
       "411               1            asian_owned               training  \n",
       "412               1            asian_owned               training  \n",
       "413               1            asian_owned               training  \n",
       "414               1            asian_owned               training  \n",
       "415               1            asian_owned             user_input  \n",
       "\n",
       "[416 rows x 6 columns]"
      ]
     },
     "execution_count": 22,
     "metadata": {},
     "output_type": "execute_result"
    }
   ],
   "source": [
    "df_filtered['training_or_user_input'] = 'training'\n",
    "potential_award_median = df_filtered['potential_total_value_of_award'].median()\n",
    "user_input = [potential_award_median, 'CA', 1, 1, 'asian_owned', 'user_input']\n",
    "df_filtered = df_filtered.append(pd.Series(user_input, index=df_filtered.columns), ignore_index=True)\n",
    "df_filtered"
   ]
  },
  {
   "cell_type": "code",
   "execution_count": 23,
   "id": "2db6cf4f",
   "metadata": {},
   "outputs": [],
   "source": [
    "# map state code to larger-encompassing region already used by EPA\n",
    "region_mapping = {\n",
    "    'CT': 1, 'ME': 1, 'MA': 1, 'NH': 1, 'RI': 1, 'VT': 1,\n",
    "    'NJ': 2, 'NY': 2, 'PR': 2,\n",
    "    'DE': 3, 'DC': 3, 'MD': 3, 'PA': 3, 'VA': 3, 'WV': 3,\n",
    "    'AL': 4, 'FL': 4, 'GA': 4, 'KY': 4, 'MS': 4, 'NC': 4, 'SC': 4, 'TN': 4,\n",
    "    'IL': 5, 'IN': 5, 'MI': 5, 'MN': 5, 'OH': 5, 'WI': 5,\n",
    "    'AR': 6, 'LA': 6, 'NM': 6, 'OK': 6, 'TX': 6,\n",
    "    'IA': 7, 'KS': 7, 'MO': 7, 'NE': 7,\n",
    "    'CO': 8, 'MT': 8, 'ND': 8, 'SD': 8, 'UT': 8, 'WY': 8,\n",
    "    'AZ': 9, 'CA': 9, 'HI': 9, 'NV': 9,\n",
    "    'AK': 10, 'ID': 10, 'OR': 10, 'WA': 10\n",
    "}\n",
    "df_filtered['region_code'] = df_filtered['region_code'].map(region_mapping)\n",
    "df_filtered.dropna(inplace=True)\n",
    "df_filtered.loc[:, 'region_code'] = df_filtered['region_code'].astype(int)"
   ]
  },
  {
   "cell_type": "code",
   "execution_count": 24,
   "id": "3a1a022c",
   "metadata": {},
   "outputs": [],
   "source": [
    "# label encode ethnicity column\n",
    "label_encoder = LabelEncoder()\n",
    "df_filtered['ethnicity'] = label_encoder.fit_transform(df_filtered['ethnicity'])"
   ]
  },
  {
   "cell_type": "code",
   "execution_count": 25,
   "id": "4060f0df",
   "metadata": {},
   "outputs": [],
   "source": [
    "# target-mean and target-median encoding\n",
    "target_median_encoding_region_code = df_filtered.groupby('region_code')['potential_total_value_of_award'].median()\n",
    "target_mean_encoding_veteran_owned = df_filtered.groupby('veteran_owned')['potential_total_value_of_award'].mean()\n",
    "#target_mean_encoding_women_owned = df_filtered.groupby('women_owned')['potential_total_value_of_award'].mean()\n",
    "target_mean_encoding_small_business = df_filtered.groupby('small_business')['potential_total_value_of_award'].mean()\n",
    "target_median_encoding_ethnicity = df_filtered.groupby('ethnicity')['potential_total_value_of_award'].median()\n",
    "\n",
    "df_filtered['region_code'] = df_filtered['region_code'].map(target_median_encoding_region_code)\n",
    "df_filtered['veteran_owned'] = df_filtered['veteran_owned'].map(target_mean_encoding_veteran_owned)\n",
    "#df_filtered['women_owned'] = df_filtered['women_owned'].map(target_mean_encoding_women_owned)\n",
    "df_filtered['small_business'] = df_filtered['small_business'].map(target_mean_encoding_small_business)\n",
    "df_filtered['ethnicity'] = df_filtered['ethnicity'].map(target_median_encoding_ethnicity)"
   ]
  },
  {
   "cell_type": "code",
   "execution_count": 26,
   "id": "406d505e",
   "metadata": {},
   "outputs": [
    {
     "data": {
      "text/html": [
       "<div>\n",
       "<style scoped>\n",
       "    .dataframe tbody tr th:only-of-type {\n",
       "        vertical-align: middle;\n",
       "    }\n",
       "\n",
       "    .dataframe tbody tr th {\n",
       "        vertical-align: top;\n",
       "    }\n",
       "\n",
       "    .dataframe thead th {\n",
       "        text-align: right;\n",
       "    }\n",
       "</style>\n",
       "<table border=\"1\" class=\"dataframe\">\n",
       "  <thead>\n",
       "    <tr style=\"text-align: right;\">\n",
       "      <th></th>\n",
       "      <th>potential_total_value_of_award</th>\n",
       "      <th>region_code</th>\n",
       "      <th>veteran_owned</th>\n",
       "      <th>small_business</th>\n",
       "      <th>ethnicity</th>\n",
       "      <th>training_or_user_input</th>\n",
       "    </tr>\n",
       "  </thead>\n",
       "  <tbody>\n",
       "    <tr>\n",
       "      <th>0</th>\n",
       "      <td>1127006.90</td>\n",
       "      <td>1.428980</td>\n",
       "      <td>-0.186617</td>\n",
       "      <td>0.186617</td>\n",
       "      <td>0.759886</td>\n",
       "      <td>training</td>\n",
       "    </tr>\n",
       "    <tr>\n",
       "      <th>1</th>\n",
       "      <td>246994.00</td>\n",
       "      <td>-0.338471</td>\n",
       "      <td>-0.186617</td>\n",
       "      <td>0.186617</td>\n",
       "      <td>-0.751234</td>\n",
       "      <td>training</td>\n",
       "    </tr>\n",
       "    <tr>\n",
       "      <th>2</th>\n",
       "      <td>1566745.82</td>\n",
       "      <td>1.428980</td>\n",
       "      <td>-0.186617</td>\n",
       "      <td>0.186617</td>\n",
       "      <td>-0.338040</td>\n",
       "      <td>training</td>\n",
       "    </tr>\n",
       "    <tr>\n",
       "      <th>3</th>\n",
       "      <td>500000.00</td>\n",
       "      <td>-0.464099</td>\n",
       "      <td>-0.186617</td>\n",
       "      <td>0.186617</td>\n",
       "      <td>0.356726</td>\n",
       "      <td>training</td>\n",
       "    </tr>\n",
       "    <tr>\n",
       "      <th>4</th>\n",
       "      <td>236221.04</td>\n",
       "      <td>-0.464099</td>\n",
       "      <td>-0.186617</td>\n",
       "      <td>0.186617</td>\n",
       "      <td>2.410234</td>\n",
       "      <td>training</td>\n",
       "    </tr>\n",
       "    <tr>\n",
       "      <th>...</th>\n",
       "      <td>...</td>\n",
       "      <td>...</td>\n",
       "      <td>...</td>\n",
       "      <td>...</td>\n",
       "      <td>...</td>\n",
       "      <td>...</td>\n",
       "    </tr>\n",
       "    <tr>\n",
       "      <th>411</th>\n",
       "      <td>925720.00</td>\n",
       "      <td>-0.338471</td>\n",
       "      <td>-0.186617</td>\n",
       "      <td>0.186617</td>\n",
       "      <td>-0.751234</td>\n",
       "      <td>training</td>\n",
       "    </tr>\n",
       "    <tr>\n",
       "      <th>412</th>\n",
       "      <td>1026316.99</td>\n",
       "      <td>-0.464099</td>\n",
       "      <td>-0.186617</td>\n",
       "      <td>0.186617</td>\n",
       "      <td>-0.751234</td>\n",
       "      <td>training</td>\n",
       "    </tr>\n",
       "    <tr>\n",
       "      <th>413</th>\n",
       "      <td>638003.00</td>\n",
       "      <td>-0.338471</td>\n",
       "      <td>-0.186617</td>\n",
       "      <td>0.186617</td>\n",
       "      <td>-0.751234</td>\n",
       "      <td>training</td>\n",
       "    </tr>\n",
       "    <tr>\n",
       "      <th>414</th>\n",
       "      <td>688195.00</td>\n",
       "      <td>-0.338471</td>\n",
       "      <td>-0.186617</td>\n",
       "      <td>0.186617</td>\n",
       "      <td>-0.751234</td>\n",
       "      <td>training</td>\n",
       "    </tr>\n",
       "    <tr>\n",
       "      <th>415</th>\n",
       "      <td>243249.00</td>\n",
       "      <td>-0.607393</td>\n",
       "      <td>5.358571</td>\n",
       "      <td>0.186617</td>\n",
       "      <td>-0.751234</td>\n",
       "      <td>user_input</td>\n",
       "    </tr>\n",
       "  </tbody>\n",
       "</table>\n",
       "<p>416 rows × 6 columns</p>\n",
       "</div>"
      ],
      "text/plain": [
       "     potential_total_value_of_award  region_code  veteran_owned  \\\n",
       "0                        1127006.90     1.428980      -0.186617   \n",
       "1                         246994.00    -0.338471      -0.186617   \n",
       "2                        1566745.82     1.428980      -0.186617   \n",
       "3                         500000.00    -0.464099      -0.186617   \n",
       "4                         236221.04    -0.464099      -0.186617   \n",
       "..                              ...          ...            ...   \n",
       "411                       925720.00    -0.338471      -0.186617   \n",
       "412                      1026316.99    -0.464099      -0.186617   \n",
       "413                       638003.00    -0.338471      -0.186617   \n",
       "414                       688195.00    -0.338471      -0.186617   \n",
       "415                       243249.00    -0.607393       5.358571   \n",
       "\n",
       "     small_business  ethnicity training_or_user_input  \n",
       "0          0.186617   0.759886               training  \n",
       "1          0.186617  -0.751234               training  \n",
       "2          0.186617  -0.338040               training  \n",
       "3          0.186617   0.356726               training  \n",
       "4          0.186617   2.410234               training  \n",
       "..              ...        ...                    ...  \n",
       "411        0.186617  -0.751234               training  \n",
       "412        0.186617  -0.751234               training  \n",
       "413        0.186617  -0.751234               training  \n",
       "414        0.186617  -0.751234               training  \n",
       "415        0.186617  -0.751234             user_input  \n",
       "\n",
       "[416 rows x 6 columns]"
      ]
     },
     "execution_count": 26,
     "metadata": {},
     "output_type": "execute_result"
    }
   ],
   "source": [
    "# standardization\n",
    "fields_to_scale = ['region_code', 'small_business', 'veteran_owned', 'ethnicity']\n",
    "scaler = StandardScaler()\n",
    "df_filtered[fields_to_scale] = scaler.fit_transform(df_filtered[fields_to_scale])\n",
    "df_filtered"
   ]
  },
  {
   "cell_type": "code",
   "execution_count": 27,
   "id": "cace3302",
   "metadata": {},
   "outputs": [],
   "source": [
    "# bin target feature to discrete value based on tertiles for multiclass model\n",
    "df_filtered_class = df_filtered.copy()\n",
    "df_filtered_class['potential_total_value_of_award'] = pd.qcut(df_filtered['potential_total_value_of_award'], q=3, labels=[1, 2, 3])"
   ]
  },
  {
   "cell_type": "code",
   "execution_count": 33,
   "id": "8cae5e43",
   "metadata": {},
   "outputs": [
    {
     "name": "stdout",
     "output_type": "stream",
     "text": [
      "T1: 110270.75850000003\n",
      "T2: 727153.1793900001\n"
     ]
    }
   ],
   "source": [
    "# identifying tertiles\n",
    "t1 = np.percentile(df_filtered['potential_total_value_of_award'], 33.33)\n",
    "t2 = np.percentile(df_filtered['potential_total_value_of_award'], 66.66)\n",
    "print(\"T1:\", t1)\n",
    "print(\"T2:\", t2)"
   ]
  },
  {
   "cell_type": "code",
   "execution_count": 28,
   "id": "d9eff9d8",
   "metadata": {},
   "outputs": [],
   "source": [
    "# isolate the user input from the dataframe\n",
    "user_input = df_filtered_class[df_filtered_class['training_or_user_input'] == 'user_input'][['region_code', 'veteran_owned', 'small_business', 'ethnicity']]\n",
    "df_filtered_class = df_filtered_class[df_filtered_class['training_or_user_input'] != 'user_input']\n",
    "df_filtered_class = df_filtered_class[['potential_total_value_of_award', 'region_code', 'veteran_owned', 'small_business', 'ethnicity']]\n",
    "user_input"
   ]
  },
  {
   "cell_type": "code",
   "execution_count": 29,
   "id": "bdb92961",
   "metadata": {},
   "outputs": [
    {
     "data": {
      "text/html": [
       "<div>\n",
       "<style scoped>\n",
       "    .dataframe tbody tr th:only-of-type {\n",
       "        vertical-align: middle;\n",
       "    }\n",
       "\n",
       "    .dataframe tbody tr th {\n",
       "        vertical-align: top;\n",
       "    }\n",
       "\n",
       "    .dataframe thead th {\n",
       "        text-align: right;\n",
       "    }\n",
       "</style>\n",
       "<table border=\"1\" class=\"dataframe\">\n",
       "  <thead>\n",
       "    <tr style=\"text-align: right;\">\n",
       "      <th></th>\n",
       "      <th>region_code</th>\n",
       "      <th>veteran_owned</th>\n",
       "      <th>small_business</th>\n",
       "      <th>ethnicity</th>\n",
       "    </tr>\n",
       "  </thead>\n",
       "  <tbody>\n",
       "    <tr>\n",
       "      <th>415</th>\n",
       "      <td>-0.607393</td>\n",
       "      <td>5.358571</td>\n",
       "      <td>0.186617</td>\n",
       "      <td>-0.751234</td>\n",
       "    </tr>\n",
       "  </tbody>\n",
       "</table>\n",
       "</div>"
      ],
      "text/plain": [
       "     region_code  veteran_owned  small_business  ethnicity\n",
       "415    -0.607393       5.358571        0.186617  -0.751234"
      ]
     },
     "execution_count": 29,
     "metadata": {},
     "output_type": "execute_result"
    }
   ],
   "source": [
    "user_input"
   ]
  },
  {
   "cell_type": "code",
   "execution_count": 30,
   "id": "54125bf5",
   "metadata": {},
   "outputs": [],
   "source": [
    "# define dependent and independent variables in dataframe\n",
    "X = df_filtered_class.drop(columns=['potential_total_value_of_award'])\n",
    "y = df_filtered_class['potential_total_value_of_award']\n",
    "\n",
    "# split the data into training and testing sets\n",
    "X_train, X_test, y_train, y_test = train_test_split(X, y, test_size=0.2, random_state=42)\n",
    "\n",
    "# apply SMOTE to handle class imbalances\n",
    "smote = SMOTE(random_state=42)\n",
    "X_train_resampled, y_train_resampled = smote.fit_resample(X_train, y_train)"
   ]
  },
  {
   "cell_type": "code",
   "execution_count": 31,
   "id": "0312b45a",
   "metadata": {},
   "outputs": [
    {
     "name": "stdout",
     "output_type": "stream",
     "text": [
      "Accuracy: 0.6144578313253012\n"
     ]
    }
   ],
   "source": [
    "# Random Forest Classifier\n",
    "rf_classifier = RandomForestClassifier(random_state=42)\n",
    "rf_classifier.fit(X_train_resampled, y_train_resampled)\n",
    "\n",
    "# make predictions on the test data\n",
    "y_pred = rf_classifier.predict(X_test)\n",
    "\n",
    "# calculate the accuracy score\n",
    "accuracy = accuracy_score(y_test, y_pred)\n",
    "print(\"Accuracy:\", accuracy)"
   ]
  },
  {
   "cell_type": "code",
   "execution_count": 32,
   "id": "963615a9",
   "metadata": {},
   "outputs": [
    {
     "data": {
      "text/plain": [
       "array([1])"
      ]
     },
     "execution_count": 32,
     "metadata": {},
     "output_type": "execute_result"
    }
   ],
   "source": [
    "y_pred = rf_classifier.predict(user_input)\n",
    "y_pred"
   ]
  }
 ],
 "metadata": {
  "kernelspec": {
   "display_name": "Python 3 (ipykernel)",
   "language": "python",
   "name": "python3"
  },
  "language_info": {
   "codemirror_mode": {
    "name": "ipython",
    "version": 3
   },
   "file_extension": ".py",
   "mimetype": "text/x-python",
   "name": "python",
   "nbconvert_exporter": "python",
   "pygments_lexer": "ipython3",
   "version": "3.9.7"
  }
 },
 "nbformat": 4,
 "nbformat_minor": 5
}
